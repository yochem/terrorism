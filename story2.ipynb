{
 "cells": [
  {
   "cell_type": "markdown",
   "metadata": {},
   "source": [
    "<h1 style=\"text-align:center\">Terrorism: looking beyond Western Europe</h1>\n",
    "\n",
    "<p style=\"text-align:center\">A data story by Nils Böhne, Brechje van Lokhorst,\n",
    "    <br>Yochem van Rosmalen and Jada Xie.\n",
    "</p>"
   ]
  },
  {
   "cell_type": "code",
   "execution_count": 11,
   "metadata": {},
   "outputs": [
    {
     "data": {
      "text/html": [
       "        <script type=\"text/javascript\">\n",
       "        window.PlotlyConfig = {MathJaxConfig: 'local'};\n",
       "        if (window.MathJax) {MathJax.Hub.Config({SVG: {font: \"STIX-Web\"}});}\n",
       "        if (typeof require !== 'undefined') {\n",
       "        require.undef(\"plotly\");\n",
       "        requirejs.config({\n",
       "            paths: {\n",
       "                'plotly': ['https://cdn.plot.ly/plotly-latest.min']\n",
       "            }\n",
       "        });\n",
       "        require(['plotly'], function(Plotly) {\n",
       "            window._Plotly = Plotly;\n",
       "        });\n",
       "        }\n",
       "        </script>\n",
       "        "
      ]
     },
     "metadata": {},
     "output_type": "display_data"
    },
    {
     "data": {
      "application/vnd.plotly.v1+json": {
       "config": {
        "linkText": "Export to plot.ly",
        "plotlyServerURL": "https://plot.ly",
        "showLink": false
       },
       "data": [
        {
         "hole": 0.65,
         "labels": [
          "Middle East & North Africa",
          "South Asia",
          "Sub-Saharan Africa",
          "Southeast Asia",
          "Other Regions"
         ],
         "textinfo": "label+percent",
         "textposition": "outside",
         "type": "pie",
         "uid": "b92648eb-1044-4673-90b9-2ca866cc3463",
         "values": [
          37247,
          33872,
          12289,
          8295,
          7880
         ]
        }
       ],
       "layout": {
        "annotations": [
         {
          "font": {
           "size": 20
          },
          "showarrow": false,
          "text": "Total attacks<br>99583"
         }
        ],
        "showlegend": false,
        "title": {
         "text": "Percentage of terrorist attacks in the world per region (2007-2017)"
        }
       }
      },
      "text/html": [
       "<div>\n",
       "        \n",
       "        \n",
       "            <div id=\"769f9d9b-2497-416d-992b-5b9d141cff17\" class=\"plotly-graph-div\" style=\"height:525px; width:100%;\"></div>\n",
       "            <script type=\"text/javascript\">\n",
       "                require([\"plotly\"], function(Plotly) {\n",
       "                    window.PLOTLYENV=window.PLOTLYENV || {};\n",
       "                    window.PLOTLYENV.BASE_URL='https://plot.ly';\n",
       "                    \n",
       "                if (document.getElementById(\"769f9d9b-2497-416d-992b-5b9d141cff17\")) {\n",
       "                    Plotly.newPlot(\n",
       "                        '769f9d9b-2497-416d-992b-5b9d141cff17',\n",
       "                        [{\"hole\": 0.65, \"labels\": [\"Middle East & North Africa\", \"South Asia\", \"Sub-Saharan Africa\", \"Southeast Asia\", \"Other Regions\"], \"textinfo\": \"label+percent\", \"textposition\": \"outside\", \"type\": \"pie\", \"uid\": \"b92648eb-1044-4673-90b9-2ca866cc3463\", \"values\": [37247, 33872, 12289, 8295, 7880]}],\n",
       "                        {\"annotations\": [{\"font\": {\"size\": 20}, \"showarrow\": false, \"text\": \"Total attacks<br>99583\"}], \"showlegend\": false, \"title\": {\"text\": \"Percentage of terrorist attacks in the world per region (2007-2017)\"}},\n",
       "                        {\"showLink\": false, \"linkText\": \"Export to plot.ly\", \"plotlyServerURL\": \"https://plot.ly\", \"responsive\": true}\n",
       "                    ).then(function(){\n",
       "                            \n",
       "var gd = document.getElementById('769f9d9b-2497-416d-992b-5b9d141cff17');\n",
       "var x = new MutationObserver(function (mutations, observer) {{\n",
       "        var display = window.getComputedStyle(gd).display;\n",
       "        if (!display || display === 'none') {{\n",
       "            console.log([gd, 'removed!']);\n",
       "            Plotly.purge(gd);\n",
       "            observer.disconnect();\n",
       "        }}\n",
       "}});\n",
       "\n",
       "// Listen for the removal of the full notebook cells\n",
       "var notebookContainer = gd.closest('#notebook-container');\n",
       "if (notebookContainer) {{\n",
       "    x.observe(notebookContainer, {childList: true});\n",
       "}}\n",
       "\n",
       "// Listen for the clearing of the current output cell\n",
       "var outputEl = gd.closest('.output');\n",
       "if (outputEl) {{\n",
       "    x.observe(outputEl, {childList: true});\n",
       "}}\n",
       "\n",
       "                        })\n",
       "                };\n",
       "                });\n",
       "            </script>\n",
       "        </div>"
      ]
     },
     "metadata": {},
     "output_type": "display_data"
    }
   ],
   "source": [
    "import pandas as pd\n",
    "import numpy as np\n",
    "from math import isnan\n",
    "\n",
    "from plotly.offline import init_notebook_mode, iplot\n",
    "import plotly.graph_objs as go\n",
    "\n",
    "# Start notebook mode\n",
    "init_notebook_mode(connected=True)\n",
    "\n",
    "low_memory=False\n",
    "\n",
    "def get_data():\n",
    "    raw_data = pd.read_csv('dataset.csv', encoding='ISO-8859-1')\n",
    "\n",
    "    selected_columns = raw_data[[\n",
    "        'motive',\n",
    "        'eventid',\n",
    "        'gname',\n",
    "        'iyear',\n",
    "        'nkill',\n",
    "        'nwound',\n",
    "        'nhostkid',\n",
    "        'region_txt'\n",
    "    ]]\n",
    "\n",
    "    return selected_columns\n",
    "    filtered_data = selected_columns[(selected_columns.region_txt == 'Eastern Europe') | \\\n",
    "                                     (selected_columns.region_txt == 'Western Europe')]\n",
    "\n",
    "    \n",
    "    return filtered_data\n",
    "\n",
    "data = get_data()\n",
    "\n",
    "reg_count = {}\n",
    "for a in data.itertuples():\n",
    "    if a.iyear < 2007:\n",
    "        continue\n",
    "    if a.region_txt in reg_count:\n",
    "        reg_count[a.region_txt] += 1\n",
    "    else:\n",
    "        reg_count[a.region_txt] = 1\n",
    "\n",
    "# initialize the 'other' category\n",
    "reg_count['Other Regions'] = 0\n",
    "\n",
    "total_count = sum(reg_count.values())\n",
    "\n",
    "should_restart = True\n",
    "while should_restart:\n",
    "    should_restart = False\n",
    "    for reg, count in reg_count.items():\n",
    "        if count / total_count < 0.05 and reg != 'Other Regions':\n",
    "            reg_count['Other Regions'] += count\n",
    "            del reg_count[reg]\n",
    "            should_restart = True\n",
    "            break\n",
    "\n",
    "c, r = zip(*sorted([(c, reg) for reg, c in reg_count.items()], reverse=True))\n",
    "count = list(c)\n",
    "reg = list(r)\n",
    "\n",
    "fig = {\n",
    "    'data': [\n",
    "        {\n",
    "            'values': count,\n",
    "            'labels': reg,\n",
    "            'textposition': 'outside',\n",
    "            'textinfo': 'label+percent',\n",
    "            'hole': .65,\n",
    "            'type': 'pie'\n",
    "        }\n",
    "    ],\n",
    "    'layout': {\n",
    "        'title':'Percentage of terrorist attacks in the world per region (2007-2017)',\n",
    "        'showlegend': False,\n",
    "        'annotations': [\n",
    "            {\n",
    "                \"font\": {\n",
    "                    \"size\": 20\n",
    "                },\n",
    "                \"showarrow\": False,\n",
    "                \"text\": f'Total attacks<br>{sum(count)}'\n",
    "            }\n",
    "        ]\n",
    "    }\n",
    "}\n",
    "iplot(fig)      "
   ]
  },
  {
   "cell_type": "code",
   "execution_count": null,
   "metadata": {},
   "outputs": [],
   "source": []
  },
  {
   "cell_type": "markdown",
   "metadata": {},
   "source": [
    "BBC News. (2015, 9 december). Paris attacks: What happened on the night. Geraadpleegd 17 juni 2019, van\n",
    "https://www.bbc.com/news/world-europe-34818994\n",
    "\n",
    "Roser, M., Nagdy, M., & Ritchie, H. (2013, 28 juli). Terrorism. Geraadpleegd 17 juni 2019, van https://ourworldindata.org/terrorism"
   ]
  },
  {
   "cell_type": "code",
   "execution_count": null,
   "metadata": {},
   "outputs": [],
   "source": []
  }
 ],
 "metadata": {
  "hide_input": true,
  "kernelspec": {
   "display_name": "Python 3",
   "language": "python",
   "name": "python3"
  },
  "language_info": {
   "codemirror_mode": {
    "name": "ipython",
    "version": 3
   },
   "file_extension": ".py",
   "mimetype": "text/x-python",
   "name": "python",
   "nbconvert_exporter": "python",
   "pygments_lexer": "ipython3",
   "version": "3.7.3"
  }
 },
 "nbformat": 4,
 "nbformat_minor": 2
}
